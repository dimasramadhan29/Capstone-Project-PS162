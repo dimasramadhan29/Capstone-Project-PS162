{
  "nbformat": 4,
  "nbformat_minor": 0,
  "metadata": {
    "colab": {
      "provenance": []
    },
    "kernelspec": {
      "name": "python3",
      "display_name": "Python 3"
    },
    "language_info": {
      "name": "python"
    }
  },
  "cells": [
    {
      "cell_type": "code",
      "execution_count": 13,
      "metadata": {
        "id": "_hIgqVtPABt6"
      },
      "outputs": [],
      "source": [
        "import pandas as pd\n",
        "import numpy as np\n",
        "import tensorflow as tf\n",
        "from sklearn.model_selection import train_test_split\n",
        "from sklearn.preprocessing import LabelEncoder\n",
        "from keras.layers import Input, Embedding, Flatten, Dot\n",
        "from tensorflow.keras.models import Sequential,Model\n",
        "from keras.layers import Input\n"
      ]
    },
    {
      "cell_type": "code",
      "source": [
        "df = pd.read_excel('datadummy2.xlsx')"
      ],
      "metadata": {
        "id": "IuLTFPFRAMbY"
      },
      "execution_count": 14,
      "outputs": []
    },
    {
      "cell_type": "code",
      "source": [
        "print(df)"
      ],
      "metadata": {
        "colab": {
          "base_uri": "https://localhost:8080/"
        },
        "id": "AjVRe12fANHv",
        "outputId": "3f541f66-68e8-4e13-9fbe-88164bbcfdd5"
      },
      "execution_count": 15,
      "outputs": [
        {
          "output_type": "stream",
          "name": "stdout",
          "text": [
            "     Id User       Genre         Nama Usaha     Lokasi  Rating  \\\n",
            "0          1        Baju      Fashion Trend    Jakarta     4.2   \n",
            "1          2     Makanan        Warung Sate  Tangerang     4.5   \n",
            "2          3  Elektronik       Gadget Store      Bogor     4.1   \n",
            "3          4    Aksesori     Accessorize It     Bekasi     4.3   \n",
            "4          5  Kecantikan    Beauty Paradise      Depok     4.4   \n",
            "..       ...         ...                ...        ...     ...   \n",
            "898      899  Elektronik   Gadget Plus Plus    Jakarta     4.6   \n",
            "899      900     Makanan      Restoran Cina  Tangerang     4.3   \n",
            "900      901        Baju        Fashion Hub      Bogor     4.5   \n",
            "901      902  Elektronik  Electronics Depot     Bekasi     4.2   \n",
            "902      903     Makanan       Warung Bakmi    Jakarta     4.7   \n",
            "\n",
            "             Nama Produk  Jumlah Follower  \n",
            "0          Kemeja Casual           3500.0  \n",
            "1       Sate Ayam Madura           4600.0  \n",
            "2    Headphone Bluetooth           3800.0  \n",
            "3      Gelang Kalung Set           2500.0  \n",
            "4          Lipstik Matte           3200.0  \n",
            "..                   ...              ...  \n",
            "898    Bluetooth Speaker           4500.0  \n",
            "899  Ayam Goreng Mentega           4200.0  \n",
            "900           Maxi Dress           4300.0  \n",
            "901             Smart TV           3800.0  \n",
            "902        Bakmi Spesial           4200.0  \n",
            "\n",
            "[903 rows x 7 columns]\n"
          ]
        }
      ]
    },
    {
      "cell_type": "code",
      "source": [
        "df['Nama Usaha'].duplicated()\n"
      ],
      "metadata": {
        "colab": {
          "base_uri": "https://localhost:8080/"
        },
        "id": "FMsA2cTWANMv",
        "outputId": "38cf54fa-c72d-4637-b182-1a992786076d"
      },
      "execution_count": 16,
      "outputs": [
        {
          "output_type": "execute_result",
          "data": {
            "text/plain": [
              "0      False\n",
              "1      False\n",
              "2      False\n",
              "3      False\n",
              "4      False\n",
              "       ...  \n",
              "898     True\n",
              "899    False\n",
              "900     True\n",
              "901    False\n",
              "902    False\n",
              "Name: Nama Usaha, Length: 903, dtype: bool"
            ]
          },
          "metadata": {},
          "execution_count": 16
        }
      ]
    },
    {
      "cell_type": "code",
      "source": [
        "df = df.drop_duplicates(subset=['Nama Usaha'])"
      ],
      "metadata": {
        "id": "79KEeb6NANNx"
      },
      "execution_count": 17,
      "outputs": []
    },
    {
      "cell_type": "code",
      "source": [
        "print(df)"
      ],
      "metadata": {
        "colab": {
          "base_uri": "https://localhost:8080/"
        },
        "id": "SB8_VHFcAk0B",
        "outputId": "4e7eaacf-36f4-48b5-d0d8-16d69ac21038"
      },
      "execution_count": 18,
      "outputs": [
        {
          "output_type": "stream",
          "name": "stdout",
          "text": [
            "     Id User       Genre         Nama Usaha     Lokasi  Rating  \\\n",
            "0          1        Baju      Fashion Trend    Jakarta     4.2   \n",
            "1          2     Makanan        Warung Sate  Tangerang     4.5   \n",
            "2          3  Elektronik       Gadget Store      Bogor     4.1   \n",
            "3          4    Aksesori     Accessorize It     Bekasi     4.3   \n",
            "4          5  Kecantikan    Beauty Paradise      Depok     4.4   \n",
            "..       ...         ...                ...        ...     ...   \n",
            "896      897     Makanan   Warung Sate Ayam     Bekasi     4.4   \n",
            "897      898        Baju     Toko Baju Pria      Depok     4.1   \n",
            "899      900     Makanan      Restoran Cina  Tangerang     4.3   \n",
            "901      902  Elektronik  Electronics Depot     Bekasi     4.2   \n",
            "902      903     Makanan       Warung Bakmi    Jakarta     4.7   \n",
            "\n",
            "             Nama Produk  Jumlah Follower  \n",
            "0          Kemeja Casual           3500.0  \n",
            "1       Sate Ayam Madura           4600.0  \n",
            "2    Headphone Bluetooth           3800.0  \n",
            "3      Gelang Kalung Set           2500.0  \n",
            "4          Lipstik Matte           3200.0  \n",
            "..                   ...              ...  \n",
            "896     Sate Ayam Madura           4100.0  \n",
            "897         Kemeja Keren           3700.0  \n",
            "899  Ayam Goreng Mentega           4200.0  \n",
            "901             Smart TV           3800.0  \n",
            "902        Bakmi Spesial           4200.0  \n",
            "\n",
            "[730 rows x 7 columns]\n"
          ]
        }
      ]
    },
    {
      "cell_type": "code",
      "source": [
        "print(df.isnull().sum())"
      ],
      "metadata": {
        "colab": {
          "base_uri": "https://localhost:8080/"
        },
        "id": "bBKwIk-9Ambl",
        "outputId": "07595501-9b43-4f29-e112-9f62171f2f35"
      },
      "execution_count": 19,
      "outputs": [
        {
          "output_type": "stream",
          "name": "stdout",
          "text": [
            "Id User            0\n",
            "Genre              0\n",
            "Nama Usaha         0\n",
            "Lokasi             0\n",
            "Rating             0\n",
            "Nama Produk        0\n",
            "Jumlah Follower    2\n",
            "dtype: int64\n"
          ]
        }
      ]
    },
    {
      "cell_type": "code",
      "source": [
        "# Replace missing values with 0 in 'Jumlah Follower' column\n",
        "df['Jumlah Follower'] = df['Jumlah Follower'].fillna(0)\n",
        "\n",
        "# Print the updated DataFrame\n",
        "print(df.isnull().sum())"
      ],
      "metadata": {
        "colab": {
          "base_uri": "https://localhost:8080/"
        },
        "id": "IANTeQWoApHw",
        "outputId": "3a2c3d7c-ec4e-4fe0-9567-1cc3f278a555"
      },
      "execution_count": 20,
      "outputs": [
        {
          "output_type": "stream",
          "name": "stdout",
          "text": [
            "Id User            0\n",
            "Genre              0\n",
            "Nama Usaha         0\n",
            "Lokasi             0\n",
            "Rating             0\n",
            "Nama Produk        0\n",
            "Jumlah Follower    0\n",
            "dtype: int64\n"
          ]
        }
      ]
    },
    {
      "cell_type": "code",
      "source": [
        "# Perform label encoding for categorical variables\n",
        "label_encoder = LabelEncoder()\n",
        "df['UserId'] = label_encoder.fit_transform(df['Id User'])\n",
        "df['ProductId'] = label_encoder.fit_transform(df['Nama Produk'])\n",
        "\n",
        "# Split data into training and testing sets\n",
        "train_df, test_df = train_test_split(df, test_size=0.2, random_state=42)\n",
        "\n",
        "# Define the model architecture\n",
        "num_users = len(df['UserId'].unique())\n",
        "num_products = len(df['ProductId'].unique())\n",
        "\n",
        "user_input = Input(shape=(1,))\n",
        "product_input = Input(shape=(1,))\n",
        "\n",
        "user_embedding = Embedding(input_dim=num_users, output_dim=10)(user_input)\n",
        "product_embedding = Embedding(input_dim=num_products, output_dim=10)(product_input)\n",
        "\n",
        "user_embedding_flat = Flatten()(user_embedding)\n",
        "product_embedding_flat = Flatten()(product_embedding)\n",
        "\n",
        "dot_product = Dot(axes=1)([user_embedding_flat, product_embedding_flat])\n",
        "\n",
        "model = Model(inputs=[user_input, product_input], outputs=dot_product)\n",
        "\n",
        "# Compile and train the model\n",
        "model.compile(optimizer='adam', loss='mse')\n",
        "model.fit([train_df['UserId'], train_df['ProductId']], train_df['Rating'], epochs=10, verbose=1)\n",
        "\n",
        "# Evaluate the model\n",
        "loss = model.evaluate([test_df['UserId'], test_df['ProductId']], test_df['Rating'], verbose=1)\n",
        "print('Test Loss:', loss)\n",
        "\n",
        "# Select a random user from the test set\n",
        "random_user_id = np.random.choice(test_df['UserId'].unique())\n",
        "\n",
        "# Get the product ids\n",
        "product_ids = test_df['ProductId'].unique()\n",
        "\n",
        "predictions = []\n",
        "\n",
        "# Make predictions for the random user\n",
        "for product_id in product_ids:\n",
        "    prediction = model.predict([np.array([random_user_id]), np.array([product_id])])[0][0]\n",
        "    predictions.append((random_user_id, product_id, prediction))\n",
        "\n",
        "# Sort predictions in descending order\n",
        "predictions.sort(key=lambda x: x[2], reverse=True)\n",
        "\n",
        "# Print top K recommendations for the random user\n",
        "top_k = 3\n",
        "print(f\"\\nTop {top_k} recommendations for User {random_user_id}:\")\n",
        "user_predictions = [(p_id, rating) for u_id, p_id, rating in predictions]\n",
        "user_predictions.sort(key=lambda x: x[1], reverse=True)\n",
        "for i in range(top_k):\n",
        "    product_id = user_predictions[i][0]\n",
        "    product_name = label_encoder.inverse_transform([product_id])[0]\n",
        "    print(f\"Recommendation {i+1}: {product_name}\")"
      ],
      "metadata": {
        "colab": {
          "base_uri": "https://localhost:8080/"
        },
        "id": "eWnwzkdlAqio",
        "outputId": "ecdac0c2-e15a-4807-abf5-107a3228a2f6"
      },
      "execution_count": 21,
      "outputs": [
        {
          "output_type": "stream",
          "name": "stdout",
          "text": [
            "Epoch 1/10\n",
            "19/19 [==============================] - 1s 2ms/step - loss: 19.9185\n",
            "Epoch 2/10\n",
            "19/19 [==============================] - 0s 2ms/step - loss: 19.9000\n",
            "Epoch 3/10\n",
            "19/19 [==============================] - 0s 2ms/step - loss: 19.8814\n",
            "Epoch 4/10\n",
            "19/19 [==============================] - 0s 2ms/step - loss: 19.8607\n",
            "Epoch 5/10\n",
            "19/19 [==============================] - 0s 2ms/step - loss: 19.8372\n",
            "Epoch 6/10\n",
            "19/19 [==============================] - 0s 2ms/step - loss: 19.8096\n",
            "Epoch 7/10\n",
            "19/19 [==============================] - 0s 2ms/step - loss: 19.7772\n",
            "Epoch 8/10\n",
            "19/19 [==============================] - 0s 2ms/step - loss: 19.7393\n",
            "Epoch 9/10\n",
            "19/19 [==============================] - 0s 2ms/step - loss: 19.6953\n",
            "Epoch 10/10\n",
            "19/19 [==============================] - 0s 2ms/step - loss: 19.6444\n",
            "5/5 [==============================] - 0s 3ms/step - loss: 20.0388\n",
            "Test Loss: 20.038787841796875\n",
            "1/1 [==============================] - 0s 87ms/step\n",
            "1/1 [==============================] - 0s 24ms/step\n",
            "1/1 [==============================] - 0s 31ms/step\n",
            "1/1 [==============================] - 0s 25ms/step\n",
            "1/1 [==============================] - 0s 25ms/step\n",
            "1/1 [==============================] - 0s 23ms/step\n",
            "1/1 [==============================] - 0s 22ms/step\n",
            "1/1 [==============================] - 0s 27ms/step\n",
            "1/1 [==============================] - 0s 22ms/step\n",
            "1/1 [==============================] - 0s 24ms/step\n",
            "1/1 [==============================] - 0s 22ms/step\n",
            "1/1 [==============================] - 0s 24ms/step\n",
            "1/1 [==============================] - 0s 22ms/step\n",
            "1/1 [==============================] - 0s 23ms/step\n",
            "1/1 [==============================] - 0s 24ms/step\n",
            "1/1 [==============================] - 0s 26ms/step\n",
            "1/1 [==============================] - 0s 23ms/step\n",
            "1/1 [==============================] - 0s 22ms/step\n",
            "1/1 [==============================] - 0s 24ms/step\n",
            "1/1 [==============================] - 0s 26ms/step\n",
            "1/1 [==============================] - 0s 24ms/step\n",
            "1/1 [==============================] - 0s 26ms/step\n",
            "1/1 [==============================] - 0s 26ms/step\n",
            "1/1 [==============================] - 0s 23ms/step\n",
            "1/1 [==============================] - 0s 23ms/step\n",
            "1/1 [==============================] - 0s 25ms/step\n",
            "1/1 [==============================] - 0s 22ms/step\n",
            "1/1 [==============================] - 0s 31ms/step\n",
            "1/1 [==============================] - 0s 26ms/step\n",
            "1/1 [==============================] - 0s 25ms/step\n",
            "1/1 [==============================] - 0s 25ms/step\n",
            "1/1 [==============================] - 0s 25ms/step\n",
            "1/1 [==============================] - 0s 26ms/step\n",
            "1/1 [==============================] - 0s 25ms/step\n",
            "1/1 [==============================] - 0s 24ms/step\n",
            "1/1 [==============================] - 0s 25ms/step\n",
            "1/1 [==============================] - 0s 22ms/step\n",
            "1/1 [==============================] - 0s 24ms/step\n",
            "1/1 [==============================] - 0s 24ms/step\n",
            "1/1 [==============================] - 0s 25ms/step\n",
            "1/1 [==============================] - 0s 22ms/step\n",
            "1/1 [==============================] - 0s 25ms/step\n",
            "1/1 [==============================] - 0s 24ms/step\n",
            "1/1 [==============================] - 0s 23ms/step\n",
            "1/1 [==============================] - 0s 22ms/step\n",
            "1/1 [==============================] - 0s 28ms/step\n",
            "1/1 [==============================] - 0s 26ms/step\n",
            "1/1 [==============================] - 0s 22ms/step\n",
            "1/1 [==============================] - 0s 23ms/step\n",
            "1/1 [==============================] - 0s 25ms/step\n",
            "1/1 [==============================] - 0s 25ms/step\n",
            "1/1 [==============================] - 0s 25ms/step\n",
            "1/1 [==============================] - 0s 23ms/step\n",
            "1/1 [==============================] - 0s 22ms/step\n",
            "1/1 [==============================] - 0s 23ms/step\n",
            "1/1 [==============================] - 0s 23ms/step\n",
            "1/1 [==============================] - 0s 36ms/step\n",
            "1/1 [==============================] - 0s 33ms/step\n",
            "1/1 [==============================] - 0s 39ms/step\n",
            "1/1 [==============================] - 0s 48ms/step\n",
            "1/1 [==============================] - 0s 33ms/step\n",
            "1/1 [==============================] - 0s 34ms/step\n",
            "1/1 [==============================] - 0s 35ms/step\n",
            "1/1 [==============================] - 0s 44ms/step\n",
            "1/1 [==============================] - 0s 36ms/step\n",
            "1/1 [==============================] - 0s 34ms/step\n",
            "1/1 [==============================] - 0s 33ms/step\n",
            "1/1 [==============================] - 0s 37ms/step\n",
            "1/1 [==============================] - 0s 33ms/step\n",
            "1/1 [==============================] - 0s 33ms/step\n",
            "1/1 [==============================] - 0s 39ms/step\n",
            "1/1 [==============================] - 0s 37ms/step\n",
            "1/1 [==============================] - 0s 32ms/step\n",
            "1/1 [==============================] - 0s 37ms/step\n",
            "1/1 [==============================] - 0s 35ms/step\n",
            "1/1 [==============================] - 0s 33ms/step\n",
            "1/1 [==============================] - 0s 35ms/step\n",
            "1/1 [==============================] - 0s 34ms/step\n",
            "1/1 [==============================] - 0s 35ms/step\n",
            "1/1 [==============================] - 0s 23ms/step\n",
            "1/1 [==============================] - 0s 21ms/step\n",
            "1/1 [==============================] - 0s 22ms/step\n",
            "1/1 [==============================] - 0s 23ms/step\n",
            "1/1 [==============================] - 0s 21ms/step\n",
            "1/1 [==============================] - 0s 22ms/step\n",
            "1/1 [==============================] - 0s 24ms/step\n",
            "1/1 [==============================] - 0s 30ms/step\n",
            "1/1 [==============================] - 0s 24ms/step\n",
            "1/1 [==============================] - 0s 22ms/step\n",
            "1/1 [==============================] - 0s 22ms/step\n",
            "1/1 [==============================] - 0s 22ms/step\n",
            "1/1 [==============================] - 0s 25ms/step\n",
            "1/1 [==============================] - 0s 23ms/step\n",
            "1/1 [==============================] - 0s 24ms/step\n",
            "1/1 [==============================] - 0s 24ms/step\n",
            "1/1 [==============================] - 0s 25ms/step\n",
            "1/1 [==============================] - 0s 25ms/step\n",
            "1/1 [==============================] - 0s 23ms/step\n",
            "1/1 [==============================] - 0s 30ms/step\n",
            "1/1 [==============================] - 0s 25ms/step\n",
            "1/1 [==============================] - 0s 24ms/step\n",
            "1/1 [==============================] - 0s 24ms/step\n",
            "1/1 [==============================] - 0s 23ms/step\n",
            "1/1 [==============================] - 0s 23ms/step\n",
            "1/1 [==============================] - 0s 23ms/step\n",
            "1/1 [==============================] - 0s 24ms/step\n",
            "1/1 [==============================] - 0s 22ms/step\n",
            "1/1 [==============================] - 0s 29ms/step\n",
            "1/1 [==============================] - 0s 23ms/step\n",
            "1/1 [==============================] - 0s 22ms/step\n",
            "1/1 [==============================] - 0s 23ms/step\n",
            "1/1 [==============================] - 0s 26ms/step\n",
            "1/1 [==============================] - 0s 26ms/step\n",
            "1/1 [==============================] - 0s 23ms/step\n",
            "1/1 [==============================] - 0s 26ms/step\n",
            "1/1 [==============================] - 0s 22ms/step\n",
            "1/1 [==============================] - 0s 22ms/step\n",
            "1/1 [==============================] - 0s 22ms/step\n",
            "1/1 [==============================] - 0s 23ms/step\n",
            "1/1 [==============================] - 0s 29ms/step\n",
            "1/1 [==============================] - 0s 23ms/step\n",
            "1/1 [==============================] - 0s 28ms/step\n",
            "1/1 [==============================] - 0s 22ms/step\n",
            "1/1 [==============================] - 0s 22ms/step\n",
            "1/1 [==============================] - 0s 23ms/step\n",
            "1/1 [==============================] - 0s 22ms/step\n",
            "1/1 [==============================] - 0s 24ms/step\n",
            "1/1 [==============================] - 0s 24ms/step\n",
            "1/1 [==============================] - 0s 24ms/step\n",
            "1/1 [==============================] - 0s 23ms/step\n",
            "1/1 [==============================] - 0s 22ms/step\n",
            "1/1 [==============================] - 0s 24ms/step\n",
            "1/1 [==============================] - 0s 22ms/step\n",
            "1/1 [==============================] - 0s 22ms/step\n",
            "1/1 [==============================] - 0s 27ms/step\n",
            "1/1 [==============================] - 0s 23ms/step\n",
            "1/1 [==============================] - 0s 24ms/step\n",
            "1/1 [==============================] - 0s 22ms/step\n",
            "\n",
            "Top 3 recommendations for User 346:\n",
            "Recommendation 1: Mainan Edukatif\n",
            "Recommendation 2: Car Parts and Accessories\n",
            "Recommendation 3: Pet Food and Accessories\n"
          ]
        }
      ]
    },
    {
      "cell_type": "code",
      "source": [],
      "metadata": {
        "id": "3zGIJvNyAtCa"
      },
      "execution_count": 21,
      "outputs": []
    }
  ]
}