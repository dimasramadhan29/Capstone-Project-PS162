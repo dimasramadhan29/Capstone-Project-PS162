{
  "nbformat": 4,
  "nbformat_minor": 0,
  "metadata": {
    "colab": {
      "provenance": []
    },
    "kernelspec": {
      "name": "python3",
      "display_name": "Python 3"
    },
    "language_info": {
      "name": "python"
    }
  },
  "cells": [
    {
      "cell_type": "code",
      "execution_count": 1,
      "metadata": {
        "id": "d_RmouPCte9c"
      },
      "outputs": [],
      "source": [
        "import pandas as pd\n",
        "import numpy as np\n",
        "from sklearn.preprocessing import OneHotEncoder\n",
        "import tensorflow as tf\n",
        "from sklearn.model_selection import train_test_split\n",
        "from sklearn.preprocessing import LabelEncoder\n",
        "from keras.layers import Input, Embedding, Flatten, Dot\n",
        "from tensorflow.keras.models import Sequential,Model\n",
        "from keras.layers import Input\n",
        "from sklearn.model_selection import train_test_split\n"
      ]
    },
    {
      "cell_type": "code",
      "source": [
        "df = pd.read_excel('datadummy2.xlsx')\n",
        "df.head()"
      ],
      "metadata": {
        "colab": {
          "base_uri": "https://localhost:8080/",
          "height": 206
        },
        "id": "srFBSepWcd4I",
        "outputId": "4fa03c6a-6c45-4729-b730-c951269bf5dc"
      },
      "execution_count": 2,
      "outputs": [
        {
          "output_type": "execute_result",
          "data": {
            "text/plain": [
              "   Id User       Genre       Nama Usaha     Lokasi  Rating  \\\n",
              "0        1        Baju    Fashion Trend    Jakarta     4.2   \n",
              "1        2     Makanan      Warung Sate  Tangerang     4.5   \n",
              "2        3  Elektronik     Gadget Store      Bogor     4.1   \n",
              "3        4    Aksesori   Accessorize It     Bekasi     4.3   \n",
              "4        5  Kecantikan  Beauty Paradise      Depok     4.4   \n",
              "\n",
              "           Nama Produk  Jumlah Follower  \n",
              "0        Kemeja Casual           3500.0  \n",
              "1     Sate Ayam Madura           4600.0  \n",
              "2  Headphone Bluetooth           3800.0  \n",
              "3    Gelang Kalung Set           2500.0  \n",
              "4        Lipstik Matte           3200.0  "
            ],
            "text/html": [
              "\n",
              "  <div id=\"df-08adfa4c-ec09-462e-b421-922c7e2a4a14\">\n",
              "    <div class=\"colab-df-container\">\n",
              "      <div>\n",
              "<style scoped>\n",
              "    .dataframe tbody tr th:only-of-type {\n",
              "        vertical-align: middle;\n",
              "    }\n",
              "\n",
              "    .dataframe tbody tr th {\n",
              "        vertical-align: top;\n",
              "    }\n",
              "\n",
              "    .dataframe thead th {\n",
              "        text-align: right;\n",
              "    }\n",
              "</style>\n",
              "<table border=\"1\" class=\"dataframe\">\n",
              "  <thead>\n",
              "    <tr style=\"text-align: right;\">\n",
              "      <th></th>\n",
              "      <th>Id User</th>\n",
              "      <th>Genre</th>\n",
              "      <th>Nama Usaha</th>\n",
              "      <th>Lokasi</th>\n",
              "      <th>Rating</th>\n",
              "      <th>Nama Produk</th>\n",
              "      <th>Jumlah Follower</th>\n",
              "    </tr>\n",
              "  </thead>\n",
              "  <tbody>\n",
              "    <tr>\n",
              "      <th>0</th>\n",
              "      <td>1</td>\n",
              "      <td>Baju</td>\n",
              "      <td>Fashion Trend</td>\n",
              "      <td>Jakarta</td>\n",
              "      <td>4.2</td>\n",
              "      <td>Kemeja Casual</td>\n",
              "      <td>3500.0</td>\n",
              "    </tr>\n",
              "    <tr>\n",
              "      <th>1</th>\n",
              "      <td>2</td>\n",
              "      <td>Makanan</td>\n",
              "      <td>Warung Sate</td>\n",
              "      <td>Tangerang</td>\n",
              "      <td>4.5</td>\n",
              "      <td>Sate Ayam Madura</td>\n",
              "      <td>4600.0</td>\n",
              "    </tr>\n",
              "    <tr>\n",
              "      <th>2</th>\n",
              "      <td>3</td>\n",
              "      <td>Elektronik</td>\n",
              "      <td>Gadget Store</td>\n",
              "      <td>Bogor</td>\n",
              "      <td>4.1</td>\n",
              "      <td>Headphone Bluetooth</td>\n",
              "      <td>3800.0</td>\n",
              "    </tr>\n",
              "    <tr>\n",
              "      <th>3</th>\n",
              "      <td>4</td>\n",
              "      <td>Aksesori</td>\n",
              "      <td>Accessorize It</td>\n",
              "      <td>Bekasi</td>\n",
              "      <td>4.3</td>\n",
              "      <td>Gelang Kalung Set</td>\n",
              "      <td>2500.0</td>\n",
              "    </tr>\n",
              "    <tr>\n",
              "      <th>4</th>\n",
              "      <td>5</td>\n",
              "      <td>Kecantikan</td>\n",
              "      <td>Beauty Paradise</td>\n",
              "      <td>Depok</td>\n",
              "      <td>4.4</td>\n",
              "      <td>Lipstik Matte</td>\n",
              "      <td>3200.0</td>\n",
              "    </tr>\n",
              "  </tbody>\n",
              "</table>\n",
              "</div>\n",
              "      <button class=\"colab-df-convert\" onclick=\"convertToInteractive('df-08adfa4c-ec09-462e-b421-922c7e2a4a14')\"\n",
              "              title=\"Convert this dataframe to an interactive table.\"\n",
              "              style=\"display:none;\">\n",
              "        \n",
              "  <svg xmlns=\"http://www.w3.org/2000/svg\" height=\"24px\"viewBox=\"0 0 24 24\"\n",
              "       width=\"24px\">\n",
              "    <path d=\"M0 0h24v24H0V0z\" fill=\"none\"/>\n",
              "    <path d=\"M18.56 5.44l.94 2.06.94-2.06 2.06-.94-2.06-.94-.94-2.06-.94 2.06-2.06.94zm-11 1L8.5 8.5l.94-2.06 2.06-.94-2.06-.94L8.5 2.5l-.94 2.06-2.06.94zm10 10l.94 2.06.94-2.06 2.06-.94-2.06-.94-.94-2.06-.94 2.06-2.06.94z\"/><path d=\"M17.41 7.96l-1.37-1.37c-.4-.4-.92-.59-1.43-.59-.52 0-1.04.2-1.43.59L10.3 9.45l-7.72 7.72c-.78.78-.78 2.05 0 2.83L4 21.41c.39.39.9.59 1.41.59.51 0 1.02-.2 1.41-.59l7.78-7.78 2.81-2.81c.8-.78.8-2.07 0-2.86zM5.41 20L4 18.59l7.72-7.72 1.47 1.35L5.41 20z\"/>\n",
              "  </svg>\n",
              "      </button>\n",
              "      \n",
              "  <style>\n",
              "    .colab-df-container {\n",
              "      display:flex;\n",
              "      flex-wrap:wrap;\n",
              "      gap: 12px;\n",
              "    }\n",
              "\n",
              "    .colab-df-convert {\n",
              "      background-color: #E8F0FE;\n",
              "      border: none;\n",
              "      border-radius: 50%;\n",
              "      cursor: pointer;\n",
              "      display: none;\n",
              "      fill: #1967D2;\n",
              "      height: 32px;\n",
              "      padding: 0 0 0 0;\n",
              "      width: 32px;\n",
              "    }\n",
              "\n",
              "    .colab-df-convert:hover {\n",
              "      background-color: #E2EBFA;\n",
              "      box-shadow: 0px 1px 2px rgba(60, 64, 67, 0.3), 0px 1px 3px 1px rgba(60, 64, 67, 0.15);\n",
              "      fill: #174EA6;\n",
              "    }\n",
              "\n",
              "    [theme=dark] .colab-df-convert {\n",
              "      background-color: #3B4455;\n",
              "      fill: #D2E3FC;\n",
              "    }\n",
              "\n",
              "    [theme=dark] .colab-df-convert:hover {\n",
              "      background-color: #434B5C;\n",
              "      box-shadow: 0px 1px 3px 1px rgba(0, 0, 0, 0.15);\n",
              "      filter: drop-shadow(0px 1px 2px rgba(0, 0, 0, 0.3));\n",
              "      fill: #FFFFFF;\n",
              "    }\n",
              "  </style>\n",
              "\n",
              "      <script>\n",
              "        const buttonEl =\n",
              "          document.querySelector('#df-08adfa4c-ec09-462e-b421-922c7e2a4a14 button.colab-df-convert');\n",
              "        buttonEl.style.display =\n",
              "          google.colab.kernel.accessAllowed ? 'block' : 'none';\n",
              "\n",
              "        async function convertToInteractive(key) {\n",
              "          const element = document.querySelector('#df-08adfa4c-ec09-462e-b421-922c7e2a4a14');\n",
              "          const dataTable =\n",
              "            await google.colab.kernel.invokeFunction('convertToInteractive',\n",
              "                                                     [key], {});\n",
              "          if (!dataTable) return;\n",
              "\n",
              "          const docLinkHtml = 'Like what you see? Visit the ' +\n",
              "            '<a target=\"_blank\" href=https://colab.research.google.com/notebooks/data_table.ipynb>data table notebook</a>'\n",
              "            + ' to learn more about interactive tables.';\n",
              "          element.innerHTML = '';\n",
              "          dataTable['output_type'] = 'display_data';\n",
              "          await google.colab.output.renderOutput(dataTable, element);\n",
              "          const docLink = document.createElement('div');\n",
              "          docLink.innerHTML = docLinkHtml;\n",
              "          element.appendChild(docLink);\n",
              "        }\n",
              "      </script>\n",
              "    </div>\n",
              "  </div>\n",
              "  "
            ]
          },
          "metadata": {},
          "execution_count": 2
        }
      ]
    },
    {
      "cell_type": "markdown",
      "source": [
        "Cleaning The duplicated data"
      ],
      "metadata": {
        "id": "EPC6o9V-K7be"
      }
    },
    {
      "cell_type": "code",
      "source": [
        "df['Nama Usaha'].duplicated()\n",
        "df = df.drop_duplicates(subset=['Nama Usaha'])\n",
        "df.info()"
      ],
      "metadata": {
        "colab": {
          "base_uri": "https://localhost:8080/"
        },
        "id": "a-7A1WhCcd49",
        "outputId": "a5818ef6-5fa3-4afa-ebaf-f91571ec927d"
      },
      "execution_count": 3,
      "outputs": [
        {
          "output_type": "stream",
          "name": "stdout",
          "text": [
            "<class 'pandas.core.frame.DataFrame'>\n",
            "Int64Index: 730 entries, 0 to 902\n",
            "Data columns (total 7 columns):\n",
            " #   Column           Non-Null Count  Dtype  \n",
            "---  ------           --------------  -----  \n",
            " 0   Id User          730 non-null    int64  \n",
            " 1   Genre            730 non-null    object \n",
            " 2   Nama Usaha       730 non-null    object \n",
            " 3   Lokasi           730 non-null    object \n",
            " 4   Rating           730 non-null    float64\n",
            " 5   Nama Produk      730 non-null    object \n",
            " 6   Jumlah Follower  728 non-null    float64\n",
            "dtypes: float64(2), int64(1), object(4)\n",
            "memory usage: 45.6+ KB\n"
          ]
        }
      ]
    },
    {
      "cell_type": "markdown",
      "source": [
        "Checking the null in the data"
      ],
      "metadata": {
        "id": "0vRKmdooPmX5"
      }
    },
    {
      "cell_type": "code",
      "source": [
        "print(df.isnull().sum())"
      ],
      "metadata": {
        "colab": {
          "base_uri": "https://localhost:8080/"
        },
        "id": "RHl5wvYAcd9W",
        "outputId": "275c6236-58cf-43ac-c61a-da3cf439efa0"
      },
      "execution_count": 4,
      "outputs": [
        {
          "output_type": "stream",
          "name": "stdout",
          "text": [
            "Id User            0\n",
            "Genre              0\n",
            "Nama Usaha         0\n",
            "Lokasi             0\n",
            "Rating             0\n",
            "Nama Produk        0\n",
            "Jumlah Follower    2\n",
            "dtype: int64\n"
          ]
        }
      ]
    },
    {
      "cell_type": "markdown",
      "source": [
        "Replace the null value with 0"
      ],
      "metadata": {
        "id": "XN4yYG5QPqXy"
      }
    },
    {
      "cell_type": "code",
      "source": [
        "# Replace missing values with 0 in 'Jumlah Follower' column\n",
        "df['Jumlah Follower'] = df['Jumlah Follower'].fillna(0)\n",
        "\n",
        "# Print the updated DataFrame\n",
        "print(df.isnull().sum())"
      ],
      "metadata": {
        "colab": {
          "base_uri": "https://localhost:8080/"
        },
        "id": "sK5O-Slbcd-F",
        "outputId": "2c4f3ee0-0b8e-47a7-bc37-5e7a0d3586b8"
      },
      "execution_count": 5,
      "outputs": [
        {
          "output_type": "stream",
          "name": "stdout",
          "text": [
            "Id User            0\n",
            "Genre              0\n",
            "Nama Usaha         0\n",
            "Lokasi             0\n",
            "Rating             0\n",
            "Nama Produk        0\n",
            "Jumlah Follower    0\n",
            "dtype: int64\n"
          ]
        }
      ]
    },
    {
      "cell_type": "markdown",
      "source": [
        "one hot encoding the string value from the column"
      ],
      "metadata": {
        "id": "Axel9IM8Qa5_"
      }
    },
    {
      "cell_type": "code",
      "source": [
        "# Encode genre using one-hot encoding\n",
        "encoder = OneHotEncoder()\n",
        "genre_encoded = encoder.fit_transform(df['Genre'].values.reshape(-1, 1)).toarray()\n",
        "\n",
        "# Create user-item interaction matrix\n",
        "num_users = len(df['Id User'].unique())\n",
        "num_items = genre_encoded.shape[1]\n",
        "interaction_matrix = np.zeros((num_users, num_items))\n",
        "\n",
        "for _, row in df.iterrows():\n",
        "    user_idx = row['Id User'] - 174  # Adjust user index to start from 0\n",
        "    item_idx = np.argmax(row['Genre'] == encoder.categories_[0])\n",
        "    interaction_matrix[user_idx, item_idx] = 1\n",
        "\n"
      ],
      "metadata": {
        "id": "XCnUxD6mceDE"
      },
      "execution_count": 6,
      "outputs": []
    },
    {
      "cell_type": "code",
      "source": [
        "class MatrixFactorization(tf.keras.Model):\n",
        "    def __init__(self, num_users, num_items, latent_dim):\n",
        "        super(MatrixFactorization, self).__init__()\n",
        "        self.user_embedding = tf.keras.layers.Embedding(num_users, latent_dim)\n",
        "        self.item_embedding = tf.keras.layers.Embedding(num_items, latent_dim)\n",
        "\n",
        "    def call(self, inputs):\n",
        "        user_indices, item_indices = inputs\n",
        "        user_emb = self.user_embedding(user_indices)\n",
        "        item_emb = self.item_embedding(item_indices)\n",
        "        dot_product = tf.reduce_sum(tf.multiply(user_emb, item_emb), axis=1)\n",
        "        return dot_product\n"
      ],
      "metadata": {
        "id": "WtJajSA1ceDx"
      },
      "execution_count": 7,
      "outputs": []
    },
    {
      "cell_type": "markdown",
      "source": [
        "Train the model"
      ],
      "metadata": {
        "id": "SBvbOmVuQnP_"
      }
    },
    {
      "cell_type": "code",
      "source": [
        "latent_dim = 16  # Dimensionality of embeddings\n",
        "\n",
        "model = MatrixFactorization(num_users, num_items, latent_dim)\n",
        "model.compile(loss=tf.keras.losses.MeanSquaredError(), optimizer=tf.keras.optimizers.Adam(learning_rate=0.001))\n",
        "# Find the minimum user index\n",
        "min_user_index = np.min(df['Id User'])\n",
        "\n",
        "# Adjust user indices to start from 0 and be within range\n",
        "user_indices = np.array(df['Id User'] - min_user_index)\n",
        "num_users = len(np.unique(user_indices))\n",
        "max_user_index = np.max(user_indices)\n",
        "\n",
        "if max_user_index >= num_users:\n",
        "    user_indices = np.where(user_indices >= num_users, num_users - 1, user_indices)\n",
        "\n",
        "item_indices = np.argmax(interaction_matrix, axis=1)\n",
        "ratings = np.ones_like(user_indices)  # Binary interaction, set ratings to 1\n",
        "\n",
        "model.fit([user_indices, item_indices], ratings, epochs=50, batch_size=32)\n",
        "\n",
        "\n",
        "\n"
      ],
      "metadata": {
        "colab": {
          "base_uri": "https://localhost:8080/"
        },
        "id": "anaJIvKIceIL",
        "outputId": "9f1e262a-c511-4ced-b389-50dc489a610d"
      },
      "execution_count": 8,
      "outputs": [
        {
          "output_type": "stream",
          "name": "stdout",
          "text": [
            "Epoch 1/50\n",
            "23/23 [==============================] - 1s 2ms/step - loss: 0.9990\n",
            "Epoch 2/50\n",
            "23/23 [==============================] - 0s 2ms/step - loss: 0.9918\n",
            "Epoch 3/50\n",
            "23/23 [==============================] - 0s 2ms/step - loss: 0.9797\n",
            "Epoch 4/50\n",
            "23/23 [==============================] - 0s 2ms/step - loss: 0.9592\n",
            "Epoch 5/50\n",
            "23/23 [==============================] - 0s 3ms/step - loss: 0.9259\n",
            "Epoch 6/50\n",
            "23/23 [==============================] - 0s 2ms/step - loss: 0.8803\n",
            "Epoch 7/50\n",
            "23/23 [==============================] - 0s 2ms/step - loss: 0.8237\n",
            "Epoch 8/50\n",
            "23/23 [==============================] - 0s 2ms/step - loss: 0.7605\n",
            "Epoch 9/50\n",
            "23/23 [==============================] - 0s 2ms/step - loss: 0.6951\n",
            "Epoch 10/50\n",
            "23/23 [==============================] - 0s 2ms/step - loss: 0.6316\n",
            "Epoch 11/50\n",
            "23/23 [==============================] - 0s 2ms/step - loss: 0.5704\n",
            "Epoch 12/50\n",
            "23/23 [==============================] - 0s 2ms/step - loss: 0.5126\n",
            "Epoch 13/50\n",
            "23/23 [==============================] - 0s 2ms/step - loss: 0.4570\n",
            "Epoch 14/50\n",
            "23/23 [==============================] - 0s 2ms/step - loss: 0.4037\n",
            "Epoch 15/50\n",
            "23/23 [==============================] - 0s 2ms/step - loss: 0.3536\n",
            "Epoch 16/50\n",
            "23/23 [==============================] - 0s 2ms/step - loss: 0.3065\n",
            "Epoch 17/50\n",
            "23/23 [==============================] - 0s 2ms/step - loss: 0.2634\n",
            "Epoch 18/50\n",
            "23/23 [==============================] - 0s 2ms/step - loss: 0.2244\n",
            "Epoch 19/50\n",
            "23/23 [==============================] - 0s 2ms/step - loss: 0.1892\n",
            "Epoch 20/50\n",
            "23/23 [==============================] - 0s 2ms/step - loss: 0.1582\n",
            "Epoch 21/50\n",
            "23/23 [==============================] - 0s 2ms/step - loss: 0.1314\n",
            "Epoch 22/50\n",
            "23/23 [==============================] - 0s 2ms/step - loss: 0.1080\n",
            "Epoch 23/50\n",
            "23/23 [==============================] - 0s 2ms/step - loss: 0.0885\n",
            "Epoch 24/50\n",
            "23/23 [==============================] - 0s 2ms/step - loss: 0.0717\n",
            "Epoch 25/50\n",
            "23/23 [==============================] - 0s 2ms/step - loss: 0.0580\n",
            "Epoch 26/50\n",
            "23/23 [==============================] - 0s 2ms/step - loss: 0.0467\n",
            "Epoch 27/50\n",
            "23/23 [==============================] - 0s 2ms/step - loss: 0.0376\n",
            "Epoch 28/50\n",
            "23/23 [==============================] - 0s 2ms/step - loss: 0.0303\n",
            "Epoch 29/50\n",
            "23/23 [==============================] - 0s 2ms/step - loss: 0.0245\n",
            "Epoch 30/50\n",
            "23/23 [==============================] - 0s 2ms/step - loss: 0.0198\n",
            "Epoch 31/50\n",
            "23/23 [==============================] - 0s 3ms/step - loss: 0.0162\n",
            "Epoch 32/50\n",
            "23/23 [==============================] - 0s 2ms/step - loss: 0.0132\n",
            "Epoch 33/50\n",
            "23/23 [==============================] - 0s 2ms/step - loss: 0.0109\n",
            "Epoch 34/50\n",
            "23/23 [==============================] - 0s 2ms/step - loss: 0.0090\n",
            "Epoch 35/50\n",
            "23/23 [==============================] - 0s 2ms/step - loss: 0.0075\n",
            "Epoch 36/50\n",
            "23/23 [==============================] - 0s 2ms/step - loss: 0.0062\n",
            "Epoch 37/50\n",
            "23/23 [==============================] - 0s 2ms/step - loss: 0.0052\n",
            "Epoch 38/50\n",
            "23/23 [==============================] - 0s 2ms/step - loss: 0.0043\n",
            "Epoch 39/50\n",
            "23/23 [==============================] - 0s 2ms/step - loss: 0.0037\n",
            "Epoch 40/50\n",
            "23/23 [==============================] - 0s 2ms/step - loss: 0.0031\n",
            "Epoch 41/50\n",
            "23/23 [==============================] - 0s 2ms/step - loss: 0.0027\n",
            "Epoch 42/50\n",
            "23/23 [==============================] - 0s 3ms/step - loss: 0.0023\n",
            "Epoch 43/50\n",
            "23/23 [==============================] - 0s 2ms/step - loss: 0.0020\n",
            "Epoch 44/50\n",
            "23/23 [==============================] - 0s 2ms/step - loss: 0.0017\n",
            "Epoch 45/50\n",
            "23/23 [==============================] - 0s 2ms/step - loss: 0.0015\n",
            "Epoch 46/50\n",
            "23/23 [==============================] - 0s 2ms/step - loss: 0.0013\n",
            "Epoch 47/50\n",
            "23/23 [==============================] - 0s 2ms/step - loss: 0.0012\n",
            "Epoch 48/50\n",
            "23/23 [==============================] - 0s 2ms/step - loss: 0.0011\n",
            "Epoch 49/50\n",
            "23/23 [==============================] - 0s 2ms/step - loss: 9.7199e-04\n",
            "Epoch 50/50\n",
            "23/23 [==============================] - 0s 2ms/step - loss: 8.8033e-04\n"
          ]
        },
        {
          "output_type": "execute_result",
          "data": {
            "text/plain": [
              "<keras.callbacks.History at 0x7f8258066440>"
            ]
          },
          "metadata": {},
          "execution_count": 8
        }
      ]
    },
    {
      "cell_type": "markdown",
      "source": [
        "Testing the recommendations from the model"
      ],
      "metadata": {
        "id": "1K4igMYmQpDZ"
      }
    },
    {
      "cell_type": "code",
      "source": [
        "user_id = 1  # User ID for which you want to generate recommendations\n",
        "\n",
        "# Get the user embedding\n",
        "user_emb = model.user_embedding(np.array([user_id - 1]))\n",
        "\n",
        "# Compute the dot product between user embedding and item embeddings\n",
        "item_embeddings = model.item_embedding.weights[0]\n",
        "recommendations = tf.matmul(user_emb, item_embeddings, transpose_b=True)\n",
        "recommendations = tf.squeeze(recommendations).numpy()\n",
        "\n",
        "# Sort the recommendations by their scores\n",
        "sorted_indices = np.argsort(recommendations)[::-1]\n",
        "top_indices = sorted_indices  # Select the top 3 indices\n",
        "top_items = df['Nama Produk'].iloc[top_indices]\n",
        "\n",
        "print(\"Recommendations for User\", user_id)\n",
        "for item in top_items:\n",
        "    print(\"- Item:\", item)\n"
      ],
      "metadata": {
        "colab": {
          "base_uri": "https://localhost:8080/"
        },
        "id": "EgftoqxtceI4",
        "outputId": "24dd061f-b938-41e2-f36d-87676bfe92c0"
      },
      "execution_count": 9,
      "outputs": [
        {
          "output_type": "stream",
          "name": "stdout",
          "text": [
            "Recommendations for User 1\n",
            "- Item: Mascara Waterproof\n",
            "- Item: Kemeja Casual\n",
            "- Item: Palet Eyeshadow\n",
            "- Item: Mainan Edukatif\n",
            "- Item: Lipstik Matte\n",
            "- Item: Tas Bayi\n",
            "- Item: Raket Badminton\n",
            "- Item: Buku Anak-Anak\n",
            "- Item: Soto Betawi\n",
            "- Item: Bros Unik\n",
            "- Item: Kursi Makan Bayi\n",
            "- Item: Robot Transformers\n",
            "- Item: Piano Digital\n",
            "- Item: Action Figure\n",
            "- Item: Blus Wanita\n",
            "- Item: Kalung Etnik\n",
            "- Item: Dress Midi\n",
            "- Item: Lukisan Abstrak\n",
            "- Item: Celana Olahraga\n",
            "- Item: Gelang Kalung Set\n",
            "- Item: Patung Kayu\n",
            "- Item: Vas Hias\n",
            "- Item: Buku Inspiratif\n",
            "- Item: Meja Rias\n",
            "- Item: Kursi Sofa\n",
            "- Item: Gelang Kaki\n",
            "- Item: Keyboard Elektrik\n",
            "- Item: Buku Biografi\n",
            "- Item: Gorden Cantik\n",
            "- Item: Gitar Akustik\n",
            "- Item: Kerajinan Kain Flanel\n",
            "- Item: Smart TV\n",
            "- Item: Potret Lukisan\n",
            "- Item: Cincin Wanita\n",
            "- Item: Novel Bestseller\n",
            "- Item: Raket Tenis\n",
            "- Item: Celana Panjang\n",
            "- Item: Kaos Oversize\n",
            "- Item: Vas Tanaman\n",
            "- Item: Smartphone Samsung\n",
            "- Item: Vas Bunga\n",
            "- Item: Kopi Arabika\n",
            "- Item: Stroller Bayi\n",
            "- Item: Headphone Bluetooth\n",
            "- Item: Powerbank\n",
            "- Item: Kemeja Formal\n",
            "- Item: Treadmill\n",
            "- Item: Ikan Bakar\n",
            "- Item: Saxophone\n",
            "- Item: Bakso Malang\n",
            "- Item: Boneka Interaktif\n",
            "- Item: Lampu Gantung\n",
            "- Item: Baju Bayi\n",
            "- Item: Gantungan Kunci Lucu\n",
            "- Item: Pakaian Bayi\n",
            "- Item: Perfume Collection\n",
            "- Item: Gelang Perak\n",
            "- Item: Rak Buku\n",
            "- Item: Lemari Pakaian\n",
            "- Item: Meja Makan\n",
            "- Item: Drum Set\n",
            "- Item: Puzzle Anak\n",
            "- Item: Action Camera\n",
            "- Item: Krim Wajah\n",
            "- Item: Yoga Mat\n",
            "- Item: Sate Ayam Madura\n",
            "- Item: Skipping Rope\n",
            "- Item: Majalah Fashion\n",
            "- Item: Nasi Padang Komplit\n",
            "- Item: Masker Wajah\n",
            "- Item: Boneka Barbie\n"
          ]
        }
      ]
    },
    {
      "cell_type": "code",
      "source": [
        "model_dir = 'C:\\\\Users\\\\darry\\\\Downloads\\\\model_bangkit'\n",
        "\n",
        "\n",
        "# Save the model in the tf_saved_model format\n",
        "tf.saved_model.save(model, model_dir)"
      ],
      "metadata": {
        "colab": {
          "base_uri": "https://localhost:8080/"
        },
        "id": "b-DrO87GceNE",
        "outputId": "7b6653d8-4128-41c0-fbfd-19e26fded143"
      },
      "execution_count": 12,
      "outputs": [
        {
          "output_type": "stream",
          "name": "stderr",
          "text": [
            "WARNING:absl:Found untraced functions such as _update_step_xla while saving (showing 1 of 1). These functions will not be directly callable after loading.\n"
          ]
        }
      ]
    },
    {
      "cell_type": "code",
      "source": [
        "model.summary()\n"
      ],
      "metadata": {
        "colab": {
          "base_uri": "https://localhost:8080/"
        },
        "id": "bSTNFPXnwD02",
        "outputId": "2f875fe1-c0cc-4570-f6fa-d931cfa2fd6f"
      },
      "execution_count": 13,
      "outputs": [
        {
          "output_type": "stream",
          "name": "stdout",
          "text": [
            "Model: \"matrix_factorization\"\n",
            "_________________________________________________________________\n",
            " Layer (type)                Output Shape              Param #   \n",
            "=================================================================\n",
            " embedding (Embedding)       multiple                  11680     \n",
            "                                                                 \n",
            " embedding_1 (Embedding)     multiple                  1136      \n",
            "                                                                 \n",
            "=================================================================\n",
            "Total params: 12,816\n",
            "Trainable params: 12,816\n",
            "Non-trainable params: 0\n",
            "_________________________________________________________________\n"
          ]
        }
      ]
    }
  ]
}